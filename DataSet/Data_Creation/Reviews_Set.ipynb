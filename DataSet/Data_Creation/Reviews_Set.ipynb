{
 "cells": [
  {
   "cell_type": "markdown",
   "id": "9875dc3b",
   "metadata": {},
   "source": [
    "# Down Sizing Data"
   ]
  },
  {
   "cell_type": "code",
   "execution_count": 1,
   "id": "1c689929",
   "metadata": {},
   "outputs": [],
   "source": [
    "import pandas as pd\n",
    "\n",
    "# Read the CSV file and store the first 500 rows\n",
    "df = pd.read_csv('Reviews.csv', nrows=500)\n",
    "\n",
    "# Save the first 500 rows to a new CSV file\n",
    "df.to_csv('output.csv', index=False)"
   ]
  },
  {
   "cell_type": "markdown",
   "id": "8392e135",
   "metadata": {},
   "source": [
    "# Installing Libraries"
   ]
  },
  {
   "cell_type": "code",
   "execution_count": 1,
   "id": "2d27812d",
   "metadata": {},
   "outputs": [
    {
     "name": "stdout",
     "output_type": "stream",
     "text": [
      "Requirement already satisfied: openpyxl in /Users/anmolsinghnegi/opt/anaconda3/lib/python3.8/site-packages (3.0.7)\n",
      "Requirement already satisfied: et-xmlfile in /Users/anmolsinghnegi/opt/anaconda3/lib/python3.8/site-packages (from openpyxl) (1.0.1)\n",
      "\n",
      "\u001b[1m[\u001b[0m\u001b[34;49mnotice\u001b[0m\u001b[1;39;49m]\u001b[0m\u001b[39;49m A new release of pip is available: \u001b[0m\u001b[31;49m23.0.1\u001b[0m\u001b[39;49m -> \u001b[0m\u001b[32;49m23.1.2\u001b[0m\n",
      "\u001b[1m[\u001b[0m\u001b[34;49mnotice\u001b[0m\u001b[1;39;49m]\u001b[0m\u001b[39;49m To update, run: \u001b[0m\u001b[32;49m/Users/anmolsinghnegi/opt/anaconda3/bin/python -m pip install --upgrade pip\u001b[0m\n",
      "Note: you may need to restart the kernel to use updated packages.\n"
     ]
    }
   ],
   "source": [
    "pip install openpyxl"
   ]
  },
  {
   "cell_type": "markdown",
   "id": "3b9e92e5",
   "metadata": {},
   "source": [
    "# Importing Required Libraries"
   ]
  },
  {
   "cell_type": "code",
   "execution_count": 3,
   "id": "fbf225d2",
   "metadata": {},
   "outputs": [],
   "source": [
    "import csv"
   ]
  },
  {
   "cell_type": "code",
   "execution_count": 4,
   "id": "1030ba80",
   "metadata": {},
   "outputs": [],
   "source": [
    "import openpyxl"
   ]
  },
  {
   "cell_type": "markdown",
   "id": "2e54fe41",
   "metadata": {},
   "source": [
    "# Converting .csv To .xlxs"
   ]
  },
  {
   "cell_type": "code",
   "execution_count": 5,
   "id": "f534222f",
   "metadata": {},
   "outputs": [],
   "source": [
    "csv_data=[] #empty list for storing row and column"
   ]
  },
  {
   "cell_type": "code",
   "execution_count": 10,
   "id": "5cc1975c",
   "metadata": {},
   "outputs": [],
   "source": [
    "with open('output.csv', 'r') as file:\n",
    "    reader = csv.reader(file)\n",
    "    for row in reader:\n",
    "        csv_data.append(row)\n",
    "\n",
    "wBook = openpyxl.Workbook()\n",
    "sheet = wBook.active\n",
    "for row in csv_data:\n",
    "    sheet.append(row)\n",
    "\n",
    "wBook.save('Reviews.xlsx')"
   ]
  },
  {
   "cell_type": "code",
   "execution_count": null,
   "id": "8bd1b181",
   "metadata": {},
   "outputs": [],
   "source": []
  }
 ],
 "metadata": {
  "kernelspec": {
   "display_name": "Python 3",
   "language": "python",
   "name": "python3"
  },
  "language_info": {
   "codemirror_mode": {
    "name": "ipython",
    "version": 3
   },
   "file_extension": ".py",
   "mimetype": "text/x-python",
   "name": "python",
   "nbconvert_exporter": "python",
   "pygments_lexer": "ipython3",
   "version": "3.8.8"
  }
 },
 "nbformat": 4,
 "nbformat_minor": 5
}
