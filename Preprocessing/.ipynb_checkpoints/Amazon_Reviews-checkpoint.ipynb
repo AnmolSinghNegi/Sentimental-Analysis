{
 "cells": [
  {
   "cell_type": "markdown",
   "id": "107b8d4b",
   "metadata": {},
   "source": [
    "# Importing Libaries"
   ]
  },
  {
   "cell_type": "code",
   "execution_count": 1,
   "id": "882a2cd0",
   "metadata": {},
   "outputs": [],
   "source": [
    "import pandas as pd"
   ]
  },
  {
   "cell_type": "code",
   "execution_count": 2,
   "id": "fa6df3a5",
   "metadata": {},
   "outputs": [],
   "source": [
    "import numpy as np"
   ]
  },
  {
   "cell_type": "code",
   "execution_count": 3,
   "id": "11b97609",
   "metadata": {},
   "outputs": [],
   "source": [
    "import matplotlib.pyplot as plt"
   ]
  },
  {
   "cell_type": "code",
   "execution_count": 4,
   "id": "e516422b",
   "metadata": {},
   "outputs": [],
   "source": [
    "import seaborn as sns "
   ]
  },
  {
   "cell_type": "code",
   "execution_count": 5,
   "id": "9f244fc1",
   "metadata": {},
   "outputs": [],
   "source": [
    "plt.style.use('ggplot')"
   ]
  },
  {
   "cell_type": "code",
   "execution_count": 6,
   "id": "3970af58",
   "metadata": {},
   "outputs": [],
   "source": [
    "import nltk"
   ]
  },
  {
   "cell_type": "markdown",
   "id": "220340b5",
   "metadata": {},
   "source": [
    "# Reading The Data"
   ]
  },
  {
   "cell_type": "code",
   "execution_count": 7,
   "id": "de69b52b",
   "metadata": {},
   "outputs": [],
   "source": [
    "df=pd.read_csv('Reviews.csv')"
   ]
  },
  {
   "cell_type": "code",
   "execution_count": 8,
   "id": "2ddf83c2",
   "metadata": {},
   "outputs": [
    {
     "data": {
      "text/html": [
       "<div>\n",
       "<style scoped>\n",
       "    .dataframe tbody tr th:only-of-type {\n",
       "        vertical-align: middle;\n",
       "    }\n",
       "\n",
       "    .dataframe tbody tr th {\n",
       "        vertical-align: top;\n",
       "    }\n",
       "\n",
       "    .dataframe thead th {\n",
       "        text-align: right;\n",
       "    }\n",
       "</style>\n",
       "<table border=\"1\" class=\"dataframe\">\n",
       "  <thead>\n",
       "    <tr style=\"text-align: right;\">\n",
       "      <th></th>\n",
       "      <th>Id</th>\n",
       "      <th>ProductId</th>\n",
       "      <th>UserId</th>\n",
       "      <th>ProfileName</th>\n",
       "      <th>HelpfulnessNumerator</th>\n",
       "      <th>HelpfulnessDenominator</th>\n",
       "      <th>Score</th>\n",
       "      <th>Time</th>\n",
       "      <th>Summary</th>\n",
       "      <th>Text</th>\n",
       "    </tr>\n",
       "  </thead>\n",
       "  <tbody>\n",
       "    <tr>\n",
       "      <th>0</th>\n",
       "      <td>1</td>\n",
       "      <td>B001E4KFG0</td>\n",
       "      <td>A3SGXH7AUHU8GW</td>\n",
       "      <td>delmartian</td>\n",
       "      <td>1</td>\n",
       "      <td>1</td>\n",
       "      <td>5</td>\n",
       "      <td>1303862400</td>\n",
       "      <td>Good Quality Dog Food</td>\n",
       "      <td>I have bought several of the Vitality canned d...</td>\n",
       "    </tr>\n",
       "    <tr>\n",
       "      <th>1</th>\n",
       "      <td>2</td>\n",
       "      <td>B00813GRG4</td>\n",
       "      <td>A1D87F6ZCVE5NK</td>\n",
       "      <td>dll pa</td>\n",
       "      <td>0</td>\n",
       "      <td>0</td>\n",
       "      <td>1</td>\n",
       "      <td>1346976000</td>\n",
       "      <td>Not as Advertised</td>\n",
       "      <td>Product arrived labeled as Jumbo Salted Peanut...</td>\n",
       "    </tr>\n",
       "    <tr>\n",
       "      <th>2</th>\n",
       "      <td>3</td>\n",
       "      <td>B000LQOCH0</td>\n",
       "      <td>ABXLMWJIXXAIN</td>\n",
       "      <td>Natalia Corres \"Natalia Corres\"</td>\n",
       "      <td>1</td>\n",
       "      <td>1</td>\n",
       "      <td>4</td>\n",
       "      <td>1219017600</td>\n",
       "      <td>\"Delight\" says it all</td>\n",
       "      <td>This is a confection that has been around a fe...</td>\n",
       "    </tr>\n",
       "    <tr>\n",
       "      <th>3</th>\n",
       "      <td>4</td>\n",
       "      <td>B000UA0QIQ</td>\n",
       "      <td>A395BORC6FGVXV</td>\n",
       "      <td>Karl</td>\n",
       "      <td>3</td>\n",
       "      <td>3</td>\n",
       "      <td>2</td>\n",
       "      <td>1307923200</td>\n",
       "      <td>Cough Medicine</td>\n",
       "      <td>If you are looking for the secret ingredient i...</td>\n",
       "    </tr>\n",
       "    <tr>\n",
       "      <th>4</th>\n",
       "      <td>5</td>\n",
       "      <td>B006K2ZZ7K</td>\n",
       "      <td>A1UQRSCLF8GW1T</td>\n",
       "      <td>Michael D. Bigham \"M. Wassir\"</td>\n",
       "      <td>0</td>\n",
       "      <td>0</td>\n",
       "      <td>5</td>\n",
       "      <td>1350777600</td>\n",
       "      <td>Great taffy</td>\n",
       "      <td>Great taffy at a great price.  There was a wid...</td>\n",
       "    </tr>\n",
       "  </tbody>\n",
       "</table>\n",
       "</div>"
      ],
      "text/plain": [
       "   Id   ProductId          UserId                      ProfileName  \\\n",
       "0   1  B001E4KFG0  A3SGXH7AUHU8GW                       delmartian   \n",
       "1   2  B00813GRG4  A1D87F6ZCVE5NK                           dll pa   \n",
       "2   3  B000LQOCH0   ABXLMWJIXXAIN  Natalia Corres \"Natalia Corres\"   \n",
       "3   4  B000UA0QIQ  A395BORC6FGVXV                             Karl   \n",
       "4   5  B006K2ZZ7K  A1UQRSCLF8GW1T    Michael D. Bigham \"M. Wassir\"   \n",
       "\n",
       "   HelpfulnessNumerator  HelpfulnessDenominator  Score        Time  \\\n",
       "0                     1                       1      5  1303862400   \n",
       "1                     0                       0      1  1346976000   \n",
       "2                     1                       1      4  1219017600   \n",
       "3                     3                       3      2  1307923200   \n",
       "4                     0                       0      5  1350777600   \n",
       "\n",
       "                 Summary                                               Text  \n",
       "0  Good Quality Dog Food  I have bought several of the Vitality canned d...  \n",
       "1      Not as Advertised  Product arrived labeled as Jumbo Salted Peanut...  \n",
       "2  \"Delight\" says it all  This is a confection that has been around a fe...  \n",
       "3         Cough Medicine  If you are looking for the secret ingredient i...  \n",
       "4            Great taffy  Great taffy at a great price.  There was a wid...  "
      ]
     },
     "execution_count": 8,
     "metadata": {},
     "output_type": "execute_result"
    }
   ],
   "source": [
    "df.head()"
   ]
  },
  {
   "cell_type": "markdown",
   "id": "17af383c",
   "metadata": {},
   "source": [
    "### Showing a sample Review"
   ]
  },
  {
   "cell_type": "code",
   "execution_count": 9,
   "id": "101ce286",
   "metadata": {},
   "outputs": [
    {
     "data": {
      "text/plain": [
       "'I have bought several of the Vitality canned dog food products and have found them all to be of good quality. The product looks more like a stew than a processed meat and it smells better. My Labrador is finicky and she appreciates this product better than  most.'"
      ]
     },
     "execution_count": 9,
     "metadata": {},
     "output_type": "execute_result"
    }
   ],
   "source": [
    " # anlaysis of model will be on this column\n",
    "df['Text'].values[0]"
   ]
  },
  {
   "cell_type": "code",
   "execution_count": 10,
   "id": "e523e416",
   "metadata": {},
   "outputs": [
    {
     "name": "stdout",
     "output_type": "stream",
     "text": [
      "(500, 10)\n"
     ]
    }
   ],
   "source": [
    "print(df.shape)\n",
    "# data is quite large so we need to down size"
   ]
  },
  {
   "cell_type": "markdown",
   "id": "2ba8589e",
   "metadata": {},
   "source": [
    "# Quick Exploratory Data Analysis"
   ]
  },
  {
   "cell_type": "code",
   "execution_count": 11,
   "id": "1a66ffe5",
   "metadata": {},
   "outputs": [
    {
     "data": {
      "text/plain": [
       "5    339\n",
       "4     70\n",
       "3     37\n",
       "1     36\n",
       "2     18\n",
       "Name: Score, dtype: int64"
      ]
     },
     "execution_count": 11,
     "metadata": {},
     "output_type": "execute_result"
    }
   ],
   "source": [
    "df['Score'].value_counts()"
   ]
  },
  {
   "cell_type": "code",
   "execution_count": 26,
   "id": "48a0f61a",
   "metadata": {},
   "outputs": [
    {
     "data": {
      "image/png": "[encoded data removed]",
      "text/plain": [
       "<Figure size 720x360 with 1 Axes>"
      ]
     },
     "metadata": {},
     "output_type": "display_data"
    }
   ],
   "source": [
    "ax = df['Score'].value_counts().sort_index()\\\n",
    "  .plot(kind='bar', figsize=(10, 5))\n",
    "ax.set_title('Count Of Reviews by Score')\n",
    "ax.set_xlabel('S')\n",
    "plt.show()"
   ]
  },
  {
   "cell_type": "markdown",
   "id": "e65db095",
   "metadata": {},
   "source": [
    "# Basic NLTK"
   ]
  },
  {
   "cell_type": "code",
   "execution_count": 27,
   "id": "66de8012",
   "metadata": {},
   "outputs": [
    {
     "name": "stdout",
     "output_type": "stream",
     "text": [
      "Fox News Had Its Own #GOPDebate Agenda: Promote Carly \"never mention fired from HP\" Fiorina, &amp; run Trump out of race http://t.co/9k1eujdFo7\n"
     ]
    }
   ],
   "source": [
    "example=df['text'][70]\n",
    "print(example)"
   ]
  },
  {
   "cell_type": "code",
   "execution_count": 28,
   "id": "e0e7ed61",
   "metadata": {},
   "outputs": [
    {
     "data": {
      "text/plain": [
       "['Fox',\n",
       " 'News',\n",
       " 'Had',\n",
       " 'Its',\n",
       " 'Own',\n",
       " '#',\n",
       " 'GOPDebate',\n",
       " 'Agenda',\n",
       " ':',\n",
       " 'Promote',\n",
       " 'Carly',\n",
       " '``',\n",
       " 'never',\n",
       " 'mention',\n",
       " 'fired',\n",
       " 'from',\n",
       " 'HP',\n",
       " \"''\",\n",
       " 'Fiorina',\n",
       " ',',\n",
       " '&',\n",
       " 'amp',\n",
       " ';',\n",
       " 'run',\n",
       " 'Trump',\n",
       " 'out',\n",
       " 'of',\n",
       " 'race',\n",
       " 'http',\n",
       " ':',\n",
       " '//t.co/9k1eujdFo7']"
      ]
     },
     "execution_count": 28,
     "metadata": {},
     "output_type": "execute_result"
    }
   ],
   "source": [
    "nltk.word_tokenize(example)"
   ]
  },
  {
   "cell_type": "code",
   "execution_count": 30,
   "id": "79fd4961",
   "metadata": {},
   "outputs": [
    {
     "data": {
      "text/plain": [
       "['Fox',\n",
       " 'News',\n",
       " 'Had',\n",
       " 'Its',\n",
       " 'Own',\n",
       " '#',\n",
       " 'GOPDebate',\n",
       " 'Agenda',\n",
       " ':',\n",
       " 'Promote']"
      ]
     },
     "execution_count": 30,
     "metadata": {},
     "output_type": "execute_result"
    }
   ],
   "source": [
    "tokens=nltk.word_tokenize(example)\n",
    "tokens[:10]"
   ]
  },
  {
   "cell_type": "markdown",
   "id": "b3fd5124",
   "metadata": {},
   "source": [
    "### Finding Part of Speech"
   ]
  },
  {
   "cell_type": "code",
   "execution_count": 33,
   "id": "c5e21d51",
   "metadata": {},
   "outputs": [
    {
     "name": "stderr",
     "output_type": "stream",
     "text": [
      "[nltk_data] Downloading package averaged_perceptron_tagger to\n",
      "[nltk_data]     /Users/anmolsinghnegi/nltk_data...\n",
      "[nltk_data]   Unzipping taggers/averaged_perceptron_tagger.zip.\n"
     ]
    },
    {
     "data": {
      "text/plain": [
       "True"
      ]
     },
     "execution_count": 33,
     "metadata": {},
     "output_type": "execute_result"
    }
   ],
   "source": [
    "nltk.download('averaged_perceptron_tagger')"
   ]
  },
  {
   "cell_type": "code",
   "execution_count": 34,
   "id": "67a5a933",
   "metadata": {},
   "outputs": [
    {
     "data": {
      "text/plain": [
       "[('Fox', 'NNP'),\n",
       " ('News', 'NNP'),\n",
       " ('Had', 'NNP'),\n",
       " ('Its', 'PRP$'),\n",
       " ('Own', 'JJ'),\n",
       " ('#', '#'),\n",
       " ('GOPDebate', 'NNP'),\n",
       " ('Agenda', 'NNP'),\n",
       " (':', ':'),\n",
       " ('Promote', 'NNP'),\n",
       " ('Carly', 'NNP'),\n",
       " ('``', '``'),\n",
       " ('never', 'RB'),\n",
       " ('mention', 'NN'),\n",
       " ('fired', 'VBD'),\n",
       " ('from', 'IN'),\n",
       " ('HP', 'NNP'),\n",
       " (\"''\", \"''\"),\n",
       " ('Fiorina', 'NNP'),\n",
       " (',', ','),\n",
       " ('&', 'CC'),\n",
       " ('amp', 'NN'),\n",
       " (';', ':'),\n",
       " ('run', 'VB'),\n",
       " ('Trump', 'NNP'),\n",
       " ('out', 'IN'),\n",
       " ('of', 'IN'),\n",
       " ('race', 'NN'),\n",
       " ('http', 'NN'),\n",
       " (':', ':'),\n",
       " ('//t.co/9k1eujdFo7', 'NN')]"
      ]
     },
     "execution_count": 34,
     "metadata": {},
     "output_type": "execute_result"
    }
   ],
   "source": [
    "nltk.pos_tag(tokens)"
   ]
  },
  {
   "cell_type": "code",
   "execution_count": 36,
   "id": "047e1457",
   "metadata": {},
   "outputs": [
    {
     "data": {
      "text/plain": [
       "[('Fox', 'NNP'),\n",
       " ('News', 'NNP'),\n",
       " ('Had', 'NNP'),\n",
       " ('Its', 'PRP$'),\n",
       " ('Own', 'JJ'),\n",
       " ('#', '#'),\n",
       " ('GOPDebate', 'NNP'),\n",
       " ('Agenda', 'NNP'),\n",
       " (':', ':'),\n",
       " ('Promote', 'NNP')]"
      ]
     },
     "execution_count": 36,
     "metadata": {},
     "output_type": "execute_result"
    }
   ],
   "source": [
    "tagged=nltk.pos_tag(tokens)\n",
    "tagged[:10]"
   ]
  },
  {
   "cell_type": "code",
   "execution_count": 41,
   "id": "78ff3c15",
   "metadata": {},
   "outputs": [
    {
     "name": "stderr",
     "output_type": "stream",
     "text": [
      "[nltk_data] Downloading package maxent_ne_chunker to\n",
      "[nltk_data]     /Users/anmolsinghnegi/nltk_data...\n",
      "[nltk_data]   Unzipping chunkers/maxent_ne_chunker.zip.\n"
     ]
    },
    {
     "data": {
      "text/plain": [
       "True"
      ]
     },
     "execution_count": 41,
     "metadata": {},
     "output_type": "execute_result"
    }
   ],
   "source": [
    "nltk.download('maxent_ne_chunker')"
   ]
  },
  {
   "cell_type": "code",
   "execution_count": 43,
   "id": "5784f719",
   "metadata": {},
   "outputs": [
    {
     "name": "stderr",
     "output_type": "stream",
     "text": [
      "[nltk_data] Downloading package words to\n",
      "[nltk_data]     /Users/anmolsinghnegi/nltk_data...\n",
      "[nltk_data]   Unzipping corpora/words.zip.\n"
     ]
    },
    {
     "data": {
      "text/plain": [
       "True"
      ]
     },
     "execution_count": 43,
     "metadata": {},
     "output_type": "execute_result"
    }
   ],
   "source": [
    "nltk.download('words')"
   ]
  },
  {
   "cell_type": "code",
   "execution_count": 44,
   "id": "68c805ea",
   "metadata": {},
   "outputs": [
    {
     "name": "stdout",
     "output_type": "stream",
     "text": [
      "(S\n",
      "  (PERSON Fox/NNP)\n",
      "  (ORGANIZATION News/NNP)\n",
      "  Had/NNP\n",
      "  Its/PRP$\n",
      "  Own/JJ\n",
      "  #/#\n",
      "  (ORGANIZATION GOPDebate/NNP)\n",
      "  Agenda/NNP\n",
      "  :/:\n",
      "  Promote/NNP\n",
      "  Carly/NNP\n",
      "  ``/``\n",
      "  never/RB\n",
      "  mention/NN\n",
      "  fired/VBD\n",
      "  from/IN\n",
      "  (ORGANIZATION HP/NNP)\n",
      "  ''/''\n",
      "  (GPE Fiorina/NNP)\n",
      "  ,/,\n",
      "  &/CC\n",
      "  amp/NN\n",
      "  ;/:\n",
      "  run/VB\n",
      "  (PERSON Trump/NNP)\n",
      "  out/IN\n",
      "  of/IN\n",
      "  race/NN\n",
      "  http/NN\n",
      "  :/:\n",
      "  //t.co/9k1eujdFo7/NN)\n"
     ]
    }
   ],
   "source": [
    "# groups tokens\n",
    "entities = nltk.chunk.ne_chunk(tagged)\n",
    "# Print the named entities\n",
    "entities.pprint()"
   ]
  },
  {
   "cell_type": "code",
   "execution_count": null,
   "id": "fc1a4858",
   "metadata": {},
   "outputs": [],
   "source": []
  }
 ],
 "metadata": {
  "kernelspec": {
   "display_name": "Python 3",
   "language": "python",
   "name": "python3"
  },
  "language_info": {
   "codemirror_mode": {
    "name": "ipython",
    "version": 3
   },
   "file_extension": ".py",
   "mimetype": "text/x-python",
   "name": "python",
   "nbconvert_exporter": "python",
   "pygments_lexer": "ipython3",
   "version": "3.8.8"
  }
 },
 "nbformat": 4,
 "nbformat_minor": 5
}
